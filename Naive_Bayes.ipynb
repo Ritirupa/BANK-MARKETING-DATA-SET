{
 "cells": [
  {
   "cell_type": "markdown",
   "id": "ccf0e94b",
   "metadata": {},
   "source": [
    "# Importing libraries"
   ]
  },
  {
   "cell_type": "code",
   "execution_count": 1,
   "id": "1e384c35",
   "metadata": {},
   "outputs": [],
   "source": [
    "import pandas as pd\n",
    "import numpy as np\n",
    "import matplotlib.pyplot as plt\n",
    "from sklearn.model_selection import train_test_split\n",
    "from sklearn.naive_bayes import GaussianNB\n",
    "from sklearn.metrics import accuracy_score\n",
    "from sklearn.preprocessing import MinMaxScaler\n",
    "import time\n",
    "start=time.time()"
   ]
  },
  {
   "cell_type": "code",
   "execution_count": 2,
   "id": "a4da8169",
   "metadata": {},
   "outputs": [
    {
     "data": {
      "text/html": [
       "<div>\n",
       "<style scoped>\n",
       "    .dataframe tbody tr th:only-of-type {\n",
       "        vertical-align: middle;\n",
       "    }\n",
       "\n",
       "    .dataframe tbody tr th {\n",
       "        vertical-align: top;\n",
       "    }\n",
       "\n",
       "    .dataframe thead th {\n",
       "        text-align: right;\n",
       "    }\n",
       "</style>\n",
       "<table border=\"1\" class=\"dataframe\">\n",
       "  <thead>\n",
       "    <tr style=\"text-align: right;\">\n",
       "      <th></th>\n",
       "      <th>age</th>\n",
       "      <th>job</th>\n",
       "      <th>marital</th>\n",
       "      <th>education</th>\n",
       "      <th>default</th>\n",
       "      <th>housing</th>\n",
       "      <th>loan</th>\n",
       "      <th>contact</th>\n",
       "      <th>month</th>\n",
       "      <th>day_of_week</th>\n",
       "      <th>...</th>\n",
       "      <th>campaign</th>\n",
       "      <th>pdays</th>\n",
       "      <th>previous</th>\n",
       "      <th>poutcome</th>\n",
       "      <th>emp.var.rate</th>\n",
       "      <th>cons.price.idx</th>\n",
       "      <th>cons.conf.idx</th>\n",
       "      <th>euribor3m</th>\n",
       "      <th>nr.employed</th>\n",
       "      <th>y</th>\n",
       "    </tr>\n",
       "  </thead>\n",
       "  <tbody>\n",
       "    <tr>\n",
       "      <th>0</th>\n",
       "      <td>56</td>\n",
       "      <td>housemaid</td>\n",
       "      <td>married</td>\n",
       "      <td>basic.4y</td>\n",
       "      <td>no</td>\n",
       "      <td>no</td>\n",
       "      <td>no</td>\n",
       "      <td>telephone</td>\n",
       "      <td>may</td>\n",
       "      <td>mon</td>\n",
       "      <td>...</td>\n",
       "      <td>1</td>\n",
       "      <td>999</td>\n",
       "      <td>0</td>\n",
       "      <td>nonexistent</td>\n",
       "      <td>1.1</td>\n",
       "      <td>93.994</td>\n",
       "      <td>-36.4</td>\n",
       "      <td>4.857</td>\n",
       "      <td>5191.0</td>\n",
       "      <td>no</td>\n",
       "    </tr>\n",
       "    <tr>\n",
       "      <th>1</th>\n",
       "      <td>57</td>\n",
       "      <td>services</td>\n",
       "      <td>married</td>\n",
       "      <td>high.school</td>\n",
       "      <td>unknown</td>\n",
       "      <td>no</td>\n",
       "      <td>no</td>\n",
       "      <td>telephone</td>\n",
       "      <td>may</td>\n",
       "      <td>mon</td>\n",
       "      <td>...</td>\n",
       "      <td>1</td>\n",
       "      <td>999</td>\n",
       "      <td>0</td>\n",
       "      <td>nonexistent</td>\n",
       "      <td>1.1</td>\n",
       "      <td>93.994</td>\n",
       "      <td>-36.4</td>\n",
       "      <td>4.857</td>\n",
       "      <td>5191.0</td>\n",
       "      <td>no</td>\n",
       "    </tr>\n",
       "    <tr>\n",
       "      <th>2</th>\n",
       "      <td>37</td>\n",
       "      <td>services</td>\n",
       "      <td>married</td>\n",
       "      <td>high.school</td>\n",
       "      <td>no</td>\n",
       "      <td>yes</td>\n",
       "      <td>no</td>\n",
       "      <td>telephone</td>\n",
       "      <td>may</td>\n",
       "      <td>mon</td>\n",
       "      <td>...</td>\n",
       "      <td>1</td>\n",
       "      <td>999</td>\n",
       "      <td>0</td>\n",
       "      <td>nonexistent</td>\n",
       "      <td>1.1</td>\n",
       "      <td>93.994</td>\n",
       "      <td>-36.4</td>\n",
       "      <td>4.857</td>\n",
       "      <td>5191.0</td>\n",
       "      <td>no</td>\n",
       "    </tr>\n",
       "    <tr>\n",
       "      <th>3</th>\n",
       "      <td>40</td>\n",
       "      <td>admin.</td>\n",
       "      <td>married</td>\n",
       "      <td>basic.6y</td>\n",
       "      <td>no</td>\n",
       "      <td>no</td>\n",
       "      <td>no</td>\n",
       "      <td>telephone</td>\n",
       "      <td>may</td>\n",
       "      <td>mon</td>\n",
       "      <td>...</td>\n",
       "      <td>1</td>\n",
       "      <td>999</td>\n",
       "      <td>0</td>\n",
       "      <td>nonexistent</td>\n",
       "      <td>1.1</td>\n",
       "      <td>93.994</td>\n",
       "      <td>-36.4</td>\n",
       "      <td>4.857</td>\n",
       "      <td>5191.0</td>\n",
       "      <td>no</td>\n",
       "    </tr>\n",
       "    <tr>\n",
       "      <th>4</th>\n",
       "      <td>56</td>\n",
       "      <td>services</td>\n",
       "      <td>married</td>\n",
       "      <td>high.school</td>\n",
       "      <td>no</td>\n",
       "      <td>no</td>\n",
       "      <td>yes</td>\n",
       "      <td>telephone</td>\n",
       "      <td>may</td>\n",
       "      <td>mon</td>\n",
       "      <td>...</td>\n",
       "      <td>1</td>\n",
       "      <td>999</td>\n",
       "      <td>0</td>\n",
       "      <td>nonexistent</td>\n",
       "      <td>1.1</td>\n",
       "      <td>93.994</td>\n",
       "      <td>-36.4</td>\n",
       "      <td>4.857</td>\n",
       "      <td>5191.0</td>\n",
       "      <td>no</td>\n",
       "    </tr>\n",
       "    <tr>\n",
       "      <th>...</th>\n",
       "      <td>...</td>\n",
       "      <td>...</td>\n",
       "      <td>...</td>\n",
       "      <td>...</td>\n",
       "      <td>...</td>\n",
       "      <td>...</td>\n",
       "      <td>...</td>\n",
       "      <td>...</td>\n",
       "      <td>...</td>\n",
       "      <td>...</td>\n",
       "      <td>...</td>\n",
       "      <td>...</td>\n",
       "      <td>...</td>\n",
       "      <td>...</td>\n",
       "      <td>...</td>\n",
       "      <td>...</td>\n",
       "      <td>...</td>\n",
       "      <td>...</td>\n",
       "      <td>...</td>\n",
       "      <td>...</td>\n",
       "      <td>...</td>\n",
       "    </tr>\n",
       "    <tr>\n",
       "      <th>41183</th>\n",
       "      <td>73</td>\n",
       "      <td>retired</td>\n",
       "      <td>married</td>\n",
       "      <td>professional.course</td>\n",
       "      <td>no</td>\n",
       "      <td>yes</td>\n",
       "      <td>no</td>\n",
       "      <td>cellular</td>\n",
       "      <td>nov</td>\n",
       "      <td>fri</td>\n",
       "      <td>...</td>\n",
       "      <td>1</td>\n",
       "      <td>999</td>\n",
       "      <td>0</td>\n",
       "      <td>nonexistent</td>\n",
       "      <td>-1.1</td>\n",
       "      <td>94.767</td>\n",
       "      <td>-50.8</td>\n",
       "      <td>1.028</td>\n",
       "      <td>4963.6</td>\n",
       "      <td>yes</td>\n",
       "    </tr>\n",
       "    <tr>\n",
       "      <th>41184</th>\n",
       "      <td>46</td>\n",
       "      <td>blue-collar</td>\n",
       "      <td>married</td>\n",
       "      <td>professional.course</td>\n",
       "      <td>no</td>\n",
       "      <td>no</td>\n",
       "      <td>no</td>\n",
       "      <td>cellular</td>\n",
       "      <td>nov</td>\n",
       "      <td>fri</td>\n",
       "      <td>...</td>\n",
       "      <td>1</td>\n",
       "      <td>999</td>\n",
       "      <td>0</td>\n",
       "      <td>nonexistent</td>\n",
       "      <td>-1.1</td>\n",
       "      <td>94.767</td>\n",
       "      <td>-50.8</td>\n",
       "      <td>1.028</td>\n",
       "      <td>4963.6</td>\n",
       "      <td>no</td>\n",
       "    </tr>\n",
       "    <tr>\n",
       "      <th>41185</th>\n",
       "      <td>56</td>\n",
       "      <td>retired</td>\n",
       "      <td>married</td>\n",
       "      <td>university.degree</td>\n",
       "      <td>no</td>\n",
       "      <td>yes</td>\n",
       "      <td>no</td>\n",
       "      <td>cellular</td>\n",
       "      <td>nov</td>\n",
       "      <td>fri</td>\n",
       "      <td>...</td>\n",
       "      <td>2</td>\n",
       "      <td>999</td>\n",
       "      <td>0</td>\n",
       "      <td>nonexistent</td>\n",
       "      <td>-1.1</td>\n",
       "      <td>94.767</td>\n",
       "      <td>-50.8</td>\n",
       "      <td>1.028</td>\n",
       "      <td>4963.6</td>\n",
       "      <td>no</td>\n",
       "    </tr>\n",
       "    <tr>\n",
       "      <th>41186</th>\n",
       "      <td>44</td>\n",
       "      <td>technician</td>\n",
       "      <td>married</td>\n",
       "      <td>professional.course</td>\n",
       "      <td>no</td>\n",
       "      <td>no</td>\n",
       "      <td>no</td>\n",
       "      <td>cellular</td>\n",
       "      <td>nov</td>\n",
       "      <td>fri</td>\n",
       "      <td>...</td>\n",
       "      <td>1</td>\n",
       "      <td>999</td>\n",
       "      <td>0</td>\n",
       "      <td>nonexistent</td>\n",
       "      <td>-1.1</td>\n",
       "      <td>94.767</td>\n",
       "      <td>-50.8</td>\n",
       "      <td>1.028</td>\n",
       "      <td>4963.6</td>\n",
       "      <td>yes</td>\n",
       "    </tr>\n",
       "    <tr>\n",
       "      <th>41187</th>\n",
       "      <td>74</td>\n",
       "      <td>retired</td>\n",
       "      <td>married</td>\n",
       "      <td>professional.course</td>\n",
       "      <td>no</td>\n",
       "      <td>yes</td>\n",
       "      <td>no</td>\n",
       "      <td>cellular</td>\n",
       "      <td>nov</td>\n",
       "      <td>fri</td>\n",
       "      <td>...</td>\n",
       "      <td>3</td>\n",
       "      <td>999</td>\n",
       "      <td>1</td>\n",
       "      <td>failure</td>\n",
       "      <td>-1.1</td>\n",
       "      <td>94.767</td>\n",
       "      <td>-50.8</td>\n",
       "      <td>1.028</td>\n",
       "      <td>4963.6</td>\n",
       "      <td>no</td>\n",
       "    </tr>\n",
       "  </tbody>\n",
       "</table>\n",
       "<p>41188 rows × 21 columns</p>\n",
       "</div>"
      ],
      "text/plain": [
       "       age          job  marital            education  default housing loan  \\\n",
       "0       56    housemaid  married             basic.4y       no      no   no   \n",
       "1       57     services  married          high.school  unknown      no   no   \n",
       "2       37     services  married          high.school       no     yes   no   \n",
       "3       40       admin.  married             basic.6y       no      no   no   \n",
       "4       56     services  married          high.school       no      no  yes   \n",
       "...    ...          ...      ...                  ...      ...     ...  ...   \n",
       "41183   73      retired  married  professional.course       no     yes   no   \n",
       "41184   46  blue-collar  married  professional.course       no      no   no   \n",
       "41185   56      retired  married    university.degree       no     yes   no   \n",
       "41186   44   technician  married  professional.course       no      no   no   \n",
       "41187   74      retired  married  professional.course       no     yes   no   \n",
       "\n",
       "         contact month day_of_week  ...  campaign  pdays  previous  \\\n",
       "0      telephone   may         mon  ...         1    999         0   \n",
       "1      telephone   may         mon  ...         1    999         0   \n",
       "2      telephone   may         mon  ...         1    999         0   \n",
       "3      telephone   may         mon  ...         1    999         0   \n",
       "4      telephone   may         mon  ...         1    999         0   \n",
       "...          ...   ...         ...  ...       ...    ...       ...   \n",
       "41183   cellular   nov         fri  ...         1    999         0   \n",
       "41184   cellular   nov         fri  ...         1    999         0   \n",
       "41185   cellular   nov         fri  ...         2    999         0   \n",
       "41186   cellular   nov         fri  ...         1    999         0   \n",
       "41187   cellular   nov         fri  ...         3    999         1   \n",
       "\n",
       "          poutcome emp.var.rate  cons.price.idx  cons.conf.idx  euribor3m  \\\n",
       "0      nonexistent          1.1          93.994          -36.4      4.857   \n",
       "1      nonexistent          1.1          93.994          -36.4      4.857   \n",
       "2      nonexistent          1.1          93.994          -36.4      4.857   \n",
       "3      nonexistent          1.1          93.994          -36.4      4.857   \n",
       "4      nonexistent          1.1          93.994          -36.4      4.857   \n",
       "...            ...          ...             ...            ...        ...   \n",
       "41183  nonexistent         -1.1          94.767          -50.8      1.028   \n",
       "41184  nonexistent         -1.1          94.767          -50.8      1.028   \n",
       "41185  nonexistent         -1.1          94.767          -50.8      1.028   \n",
       "41186  nonexistent         -1.1          94.767          -50.8      1.028   \n",
       "41187      failure         -1.1          94.767          -50.8      1.028   \n",
       "\n",
       "       nr.employed    y  \n",
       "0           5191.0   no  \n",
       "1           5191.0   no  \n",
       "2           5191.0   no  \n",
       "3           5191.0   no  \n",
       "4           5191.0   no  \n",
       "...            ...  ...  \n",
       "41183       4963.6  yes  \n",
       "41184       4963.6   no  \n",
       "41185       4963.6   no  \n",
       "41186       4963.6  yes  \n",
       "41187       4963.6   no  \n",
       "\n",
       "[41188 rows x 21 columns]"
      ]
     },
     "execution_count": 2,
     "metadata": {},
     "output_type": "execute_result"
    }
   ],
   "source": [
    "df=pd.read_csv(\"bank-additional-full.csv\",sep=';')\n",
    "df"
   ]
  },
  {
   "cell_type": "code",
   "execution_count": 3,
   "id": "af3f6cb4",
   "metadata": {},
   "outputs": [
    {
     "data": {
      "text/plain": [
       "['job',\n",
       " 'loan',\n",
       " 'day_of_week',\n",
       " 'contact',\n",
       " 'housing',\n",
       " 'marital',\n",
       " 'poutcome',\n",
       " 'default',\n",
       " 'education',\n",
       " 'month']"
      ]
     },
     "execution_count": 3,
     "metadata": {},
     "output_type": "execute_result"
    }
   ],
   "source": [
    "numeric_columns=list(df.select_dtypes(include=np.number))\n",
    "categorical_columns=list(set(df.columns)-set(numeric_columns)-set('y'))\n",
    "categorical_columns"
   ]
  },
  {
   "cell_type": "code",
   "execution_count": 4,
   "id": "9bf6017c",
   "metadata": {},
   "outputs": [
    {
     "data": {
      "text/plain": [
       "['job', 'loan', 'housing', 'marital', 'default', 'education']"
      ]
     },
     "execution_count": 4,
     "metadata": {},
     "output_type": "execute_result"
    }
   ],
   "source": [
    "unknowns=[]\n",
    "for i in categorical_columns:\n",
    "    if \"unknown\" in df[i].unique():\n",
    "        unknowns.append(i)\n",
    "unknowns"
   ]
  },
  {
   "cell_type": "code",
   "execution_count": 5,
   "id": "e3b41eab",
   "metadata": {},
   "outputs": [],
   "source": [
    "ordered_features = ['education', 'housing', 'loan', 'contact','month', 'day_of_week','poutcome']\n",
    "unordered_variables=['job','marital']"
   ]
  },
  {
   "cell_type": "markdown",
   "id": "4a86e09b",
   "metadata": {},
   "source": [
    "# Splitting of Training set and test set"
   ]
  },
  {
   "cell_type": "code",
   "execution_count": 6,
   "id": "91e35064",
   "metadata": {},
   "outputs": [],
   "source": [
    "X = df.iloc[:, 0:20]\n",
    "y = df.iloc[:, 20]"
   ]
  },
  {
   "cell_type": "code",
   "execution_count": 7,
   "id": "0ddd82cd",
   "metadata": {
    "scrolled": false
   },
   "outputs": [
    {
     "data": {
      "text/html": [
       "<div>\n",
       "<style scoped>\n",
       "    .dataframe tbody tr th:only-of-type {\n",
       "        vertical-align: middle;\n",
       "    }\n",
       "\n",
       "    .dataframe tbody tr th {\n",
       "        vertical-align: top;\n",
       "    }\n",
       "\n",
       "    .dataframe thead th {\n",
       "        text-align: right;\n",
       "    }\n",
       "</style>\n",
       "<table border=\"1\" class=\"dataframe\">\n",
       "  <thead>\n",
       "    <tr style=\"text-align: right;\">\n",
       "      <th></th>\n",
       "      <th>age</th>\n",
       "      <th>job</th>\n",
       "      <th>marital</th>\n",
       "      <th>education</th>\n",
       "      <th>default</th>\n",
       "      <th>housing</th>\n",
       "      <th>loan</th>\n",
       "      <th>contact</th>\n",
       "      <th>month</th>\n",
       "      <th>day_of_week</th>\n",
       "      <th>duration</th>\n",
       "      <th>campaign</th>\n",
       "      <th>pdays</th>\n",
       "      <th>previous</th>\n",
       "      <th>poutcome</th>\n",
       "      <th>emp.var.rate</th>\n",
       "      <th>cons.price.idx</th>\n",
       "      <th>cons.conf.idx</th>\n",
       "      <th>euribor3m</th>\n",
       "      <th>nr.employed</th>\n",
       "    </tr>\n",
       "  </thead>\n",
       "  <tbody>\n",
       "    <tr>\n",
       "      <th>32884</th>\n",
       "      <td>57</td>\n",
       "      <td>technician</td>\n",
       "      <td>married</td>\n",
       "      <td>high.school</td>\n",
       "      <td>no</td>\n",
       "      <td>no</td>\n",
       "      <td>yes</td>\n",
       "      <td>cellular</td>\n",
       "      <td>may</td>\n",
       "      <td>mon</td>\n",
       "      <td>371</td>\n",
       "      <td>1</td>\n",
       "      <td>999</td>\n",
       "      <td>1</td>\n",
       "      <td>failure</td>\n",
       "      <td>-1.8</td>\n",
       "      <td>92.893</td>\n",
       "      <td>-46.2</td>\n",
       "      <td>1.299</td>\n",
       "      <td>5099.1</td>\n",
       "    </tr>\n",
       "    <tr>\n",
       "      <th>3169</th>\n",
       "      <td>55</td>\n",
       "      <td>unknown</td>\n",
       "      <td>married</td>\n",
       "      <td>unknown</td>\n",
       "      <td>unknown</td>\n",
       "      <td>yes</td>\n",
       "      <td>no</td>\n",
       "      <td>telephone</td>\n",
       "      <td>may</td>\n",
       "      <td>thu</td>\n",
       "      <td>285</td>\n",
       "      <td>2</td>\n",
       "      <td>999</td>\n",
       "      <td>0</td>\n",
       "      <td>nonexistent</td>\n",
       "      <td>1.1</td>\n",
       "      <td>93.994</td>\n",
       "      <td>-36.4</td>\n",
       "      <td>4.860</td>\n",
       "      <td>5191.0</td>\n",
       "    </tr>\n",
       "    <tr>\n",
       "      <th>32206</th>\n",
       "      <td>33</td>\n",
       "      <td>blue-collar</td>\n",
       "      <td>married</td>\n",
       "      <td>basic.9y</td>\n",
       "      <td>no</td>\n",
       "      <td>no</td>\n",
       "      <td>no</td>\n",
       "      <td>cellular</td>\n",
       "      <td>may</td>\n",
       "      <td>fri</td>\n",
       "      <td>52</td>\n",
       "      <td>1</td>\n",
       "      <td>999</td>\n",
       "      <td>1</td>\n",
       "      <td>failure</td>\n",
       "      <td>-1.8</td>\n",
       "      <td>92.893</td>\n",
       "      <td>-46.2</td>\n",
       "      <td>1.313</td>\n",
       "      <td>5099.1</td>\n",
       "    </tr>\n",
       "    <tr>\n",
       "      <th>9403</th>\n",
       "      <td>36</td>\n",
       "      <td>admin.</td>\n",
       "      <td>married</td>\n",
       "      <td>high.school</td>\n",
       "      <td>no</td>\n",
       "      <td>no</td>\n",
       "      <td>no</td>\n",
       "      <td>telephone</td>\n",
       "      <td>jun</td>\n",
       "      <td>fri</td>\n",
       "      <td>355</td>\n",
       "      <td>4</td>\n",
       "      <td>999</td>\n",
       "      <td>0</td>\n",
       "      <td>nonexistent</td>\n",
       "      <td>1.4</td>\n",
       "      <td>94.465</td>\n",
       "      <td>-41.8</td>\n",
       "      <td>4.967</td>\n",
       "      <td>5228.1</td>\n",
       "    </tr>\n",
       "    <tr>\n",
       "      <th>14020</th>\n",
       "      <td>27</td>\n",
       "      <td>housemaid</td>\n",
       "      <td>married</td>\n",
       "      <td>high.school</td>\n",
       "      <td>no</td>\n",
       "      <td>yes</td>\n",
       "      <td>no</td>\n",
       "      <td>cellular</td>\n",
       "      <td>jul</td>\n",
       "      <td>fri</td>\n",
       "      <td>189</td>\n",
       "      <td>2</td>\n",
       "      <td>999</td>\n",
       "      <td>0</td>\n",
       "      <td>nonexistent</td>\n",
       "      <td>1.4</td>\n",
       "      <td>93.918</td>\n",
       "      <td>-42.7</td>\n",
       "      <td>4.963</td>\n",
       "      <td>5228.1</td>\n",
       "    </tr>\n",
       "  </tbody>\n",
       "</table>\n",
       "</div>"
      ],
      "text/plain": [
       "       age          job  marital    education  default housing loan  \\\n",
       "32884   57   technician  married  high.school       no      no  yes   \n",
       "3169    55      unknown  married      unknown  unknown     yes   no   \n",
       "32206   33  blue-collar  married     basic.9y       no      no   no   \n",
       "9403    36       admin.  married  high.school       no      no   no   \n",
       "14020   27    housemaid  married  high.school       no     yes   no   \n",
       "\n",
       "         contact month day_of_week  duration  campaign  pdays  previous  \\\n",
       "32884   cellular   may         mon       371         1    999         1   \n",
       "3169   telephone   may         thu       285         2    999         0   \n",
       "32206   cellular   may         fri        52         1    999         1   \n",
       "9403   telephone   jun         fri       355         4    999         0   \n",
       "14020   cellular   jul         fri       189         2    999         0   \n",
       "\n",
       "          poutcome  emp.var.rate  cons.price.idx  cons.conf.idx  euribor3m  \\\n",
       "32884      failure          -1.8          92.893          -46.2      1.299   \n",
       "3169   nonexistent           1.1          93.994          -36.4      4.860   \n",
       "32206      failure          -1.8          92.893          -46.2      1.313   \n",
       "9403   nonexistent           1.4          94.465          -41.8      4.967   \n",
       "14020  nonexistent           1.4          93.918          -42.7      4.963   \n",
       "\n",
       "       nr.employed  \n",
       "32884       5099.1  \n",
       "3169        5191.0  \n",
       "32206       5099.1  \n",
       "9403        5228.1  \n",
       "14020       5228.1  "
      ]
     },
     "execution_count": 7,
     "metadata": {},
     "output_type": "execute_result"
    }
   ],
   "source": [
    "X_train, X_test, y_train, y_test = train_test_split(X, y, test_size=0.3, random_state=42)\n",
    "X_train.head()\n",
    "X_test.head()"
   ]
  },
  {
   "cell_type": "markdown",
   "id": "7053a2f2",
   "metadata": {},
   "source": [
    "# Histograms of numerical variable"
   ]
  },
  {
   "cell_type": "code",
   "execution_count": 8,
   "id": "df592642",
   "metadata": {},
   "outputs": [
    {
     "data": {
      "image/png": "[encoded data removed]",
      "text/plain": [
       "<Figure size 1440x720 with 10 Axes>"
      ]
     },
     "metadata": {
      "needs_background": "light"
     },
     "output_type": "display_data"
    }
   ],
   "source": [
    "fig , axis = plt.subplots(2, 5, figsize=(20, 10))\n",
    "fig.suptitle('histograms of numerical variable')\n",
    "i=0\n",
    "for x in numeric_columns:\n",
    "    axis[i//5,i%5].hist(df[x],color='lime')\n",
    "    axis[i//5,i%5].set_title(x)\n",
    "    i=i+1\n",
    "plt.show()"
   ]
  },
  {
   "cell_type": "markdown",
   "id": "e339dc1d",
   "metadata": {},
   "source": [
    "# Removing outliers "
   ]
  },
  {
   "cell_type": "markdown",
   "id": "833cec58",
   "metadata": {},
   "source": [
    "since the columns 'campaign','duration','previous' have some outliers, we are replacing those outliers with corresponding mean values"
   ]
  },
  {
   "cell_type": "code",
   "execution_count": 9,
   "id": "491c2990",
   "metadata": {},
   "outputs": [
    {
     "name": "stderr",
     "output_type": "stream",
     "text": [
      "C:\\Users\\ritir\\anaconda3\\lib\\site-packages\\pandas\\core\\indexing.py:1817: SettingWithCopyWarning: \n",
      "A value is trying to be set on a copy of a slice from a DataFrame.\n",
      "Try using .loc[row_indexer,col_indexer] = value instead\n",
      "\n",
      "See the caveats in the documentation: https://pandas.pydata.org/pandas-docs/stable/user_guide/indexing.html#returning-a-view-versus-a-copy\n",
      "  self._setitem_single_column(loc, value, pi)\n"
     ]
    }
   ],
   "source": [
    "cam_mean = X_train['campaign'].mean()\n",
    "X_train.loc[X_train['campaign'] > 20, 'campaign'] = cam_mean \n",
    "dur_mean = X_train['duration'].mean()\n",
    "X_train.loc[X_train['duration'] > 1500, 'duration'] = cam_mean\n",
    "prev_mean=X_train['previous'].mean()\n",
    "X_train.loc[X_train['previous']>3,'previous']=prev_mean"
   ]
  },
  {
   "cell_type": "markdown",
   "id": "ec771554",
   "metadata": {},
   "source": [
    "# Normalizing numerical variables"
   ]
  },
  {
   "cell_type": "code",
   "execution_count": 10,
   "id": "988f0804",
   "metadata": {},
   "outputs": [
    {
     "name": "stderr",
     "output_type": "stream",
     "text": [
      "C:\\Users\\ritir\\anaconda3\\lib\\site-packages\\pandas\\core\\frame.py:3678: SettingWithCopyWarning: \n",
      "A value is trying to be set on a copy of a slice from a DataFrame.\n",
      "Try using .loc[row_indexer,col_indexer] = value instead\n",
      "\n",
      "See the caveats in the documentation: https://pandas.pydata.org/pandas-docs/stable/user_guide/indexing.html#returning-a-view-versus-a-copy\n",
      "  self[col] = igetitem(value, i)\n",
      "C:\\Users\\ritir\\anaconda3\\lib\\site-packages\\pandas\\core\\frame.py:3678: SettingWithCopyWarning: \n",
      "A value is trying to be set on a copy of a slice from a DataFrame.\n",
      "Try using .loc[row_indexer,col_indexer] = value instead\n",
      "\n",
      "See the caveats in the documentation: https://pandas.pydata.org/pandas-docs/stable/user_guide/indexing.html#returning-a-view-versus-a-copy\n",
      "  self[col] = igetitem(value, i)\n"
     ]
    }
   ],
   "source": [
    "min_max_scaling = MinMaxScaler()\n",
    "min_max_scaling.fit(X_train[numeric_columns])\n",
    "X_train[numeric_columns] = min_max_scaling.transform(X_train[numeric_columns])\n",
    "X_test[numeric_columns] = min_max_scaling.transform(X_test[numeric_columns])"
   ]
  },
  {
   "cell_type": "code",
   "execution_count": 11,
   "id": "afce8bef",
   "metadata": {},
   "outputs": [],
   "source": [
    "for feat in ['default','pdays']:\n",
    "    del(X_train[feat])\n",
    "for feat in ['default','pdays']:    \n",
    "    del(X_test[feat])"
   ]
  },
  {
   "cell_type": "markdown",
   "id": "3c6b6b8d",
   "metadata": {},
   "source": [
    "# Labelling categorical unordered variables using get_dummies"
   ]
  },
  {
   "cell_type": "code",
   "execution_count": 12,
   "id": "6477e081",
   "metadata": {},
   "outputs": [],
   "source": [
    "X_train=pd.get_dummies(X_train,columns=['month','marital','housing','contact','loan','day_of_week','poutcome','job','education'])\n",
    "X_test=pd.get_dummies(X_test,columns=['month','marital','housing','contact','loan','day_of_week','poutcome','job','education'])"
   ]
  },
  {
   "cell_type": "code",
   "execution_count": 13,
   "id": "fe0c0469",
   "metadata": {},
   "outputs": [
    {
     "data": {
      "text/plain": [
       "59"
      ]
     },
     "execution_count": 13,
     "metadata": {},
     "output_type": "execute_result"
    }
   ],
   "source": [
    "len(X_train.columns)"
   ]
  },
  {
   "cell_type": "markdown",
   "id": "3088357e",
   "metadata": {},
   "source": [
    "# Fitting the data in GaussianNB()"
   ]
  },
  {
   "cell_type": "code",
   "execution_count": 14,
   "id": "46fef517",
   "metadata": {},
   "outputs": [
    {
     "data": {
      "text/plain": [
       "<bound method NDFrame.head of             age  duration  campaign  previous  emp.var.rate  cons.price.idx  \\\n",
       "39075  0.148148  0.051333  0.105263  0.333333      0.083333        0.199532   \n",
       "34855  0.148148  0.008000  0.157895  0.000000      0.333333        0.269680   \n",
       "7107   0.345679  0.184667  0.052632  0.000000      0.937500        0.698753   \n",
       "31614  0.209877  0.046667  0.000000  0.333333      0.333333        0.269680   \n",
       "34878  0.185185  0.787333  0.421053  0.000000      0.333333        0.269680   \n",
       "...         ...       ...       ...       ...           ...             ...   \n",
       "6265   0.506173  0.284667  0.052632  0.000000      0.937500        0.698753   \n",
       "11284  0.246914  0.192000  0.000000  0.000000      1.000000        0.882307   \n",
       "38158  0.222222  0.129333  0.000000  0.333333      0.000000        0.089634   \n",
       "860    0.283951  0.196667  0.052632  0.000000      0.937500        0.698753   \n",
       "15795  0.148148  0.222000  0.052632  0.000000      1.000000        0.669135   \n",
       "\n",
       "       cons.conf.idx  euribor3m  nr.employed  month_apr  ...  job_unemployed  \\\n",
       "39075       0.744770   0.017003     0.226465          0  ...               0   \n",
       "34855       0.192469   0.139651     0.512287          0  ...               0   \n",
       "7107        0.602510   0.958059     0.859735          0  ...               0   \n",
       "31614       0.192469   0.157107     0.512287          0  ...               0   \n",
       "34878       0.192469   0.139651     0.512287          0  ...               0   \n",
       "...              ...        ...          ...        ...  ...             ...   \n",
       "6265        0.602510   0.957379     0.859735          0  ...               0   \n",
       "11284       0.376569   0.980957     1.000000          0  ...               0   \n",
       "38158       1.000000   0.027205     0.203781          0  ...               0   \n",
       "860         0.602510   0.957153     0.859735          0  ...               0   \n",
       "15795       0.338912   0.980730     1.000000          0  ...               0   \n",
       "\n",
       "       job_unknown  education_basic.4y  education_basic.6y  \\\n",
       "39075            0                   0                   0   \n",
       "34855            0                   0                   0   \n",
       "7107             0                   0                   1   \n",
       "31614            0                   0                   0   \n",
       "34878            0                   0                   0   \n",
       "...            ...                 ...                 ...   \n",
       "6265             0                   0                   0   \n",
       "11284            0                   0                   0   \n",
       "38158            0                   0                   0   \n",
       "860              0                   0                   0   \n",
       "15795            0                   0                   0   \n",
       "\n",
       "       education_basic.9y  education_high.school  education_illiterate  \\\n",
       "39075                   0                      0                     0   \n",
       "34855                   0                      0                     0   \n",
       "7107                    0                      0                     0   \n",
       "31614                   0                      0                     0   \n",
       "34878                   0                      1                     0   \n",
       "...                   ...                    ...                   ...   \n",
       "6265                    0                      0                     0   \n",
       "11284                   0                      0                     0   \n",
       "38158                   0                      1                     0   \n",
       "860                     0                      0                     0   \n",
       "15795                   0                      0                     0   \n",
       "\n",
       "       education_professional.course  education_university.degree  \\\n",
       "39075                              0                            1   \n",
       "34855                              0                            1   \n",
       "7107                               0                            0   \n",
       "31614                              0                            1   \n",
       "34878                              0                            0   \n",
       "...                              ...                          ...   \n",
       "6265                               1                            0   \n",
       "11284                              0                            1   \n",
       "38158                              0                            0   \n",
       "860                                0                            1   \n",
       "15795                              0                            1   \n",
       "\n",
       "       education_unknown  \n",
       "39075                  0  \n",
       "34855                  0  \n",
       "7107                   0  \n",
       "31614                  0  \n",
       "34878                  0  \n",
       "...                  ...  \n",
       "6265                   0  \n",
       "11284                  0  \n",
       "38158                  0  \n",
       "860                    0  \n",
       "15795                  0  \n",
       "\n",
       "[28831 rows x 59 columns]>"
      ]
     },
     "execution_count": 14,
     "metadata": {},
     "output_type": "execute_result"
    }
   ],
   "source": [
    "X_train.head"
   ]
  },
  {
   "cell_type": "code",
   "execution_count": 15,
   "id": "87559753",
   "metadata": {},
   "outputs": [
    {
     "name": "stdout",
     "output_type": "stream",
     "text": [
      "peak memory: 204.02 MiB, increment: 23.69 MiB\n"
     ]
    }
   ],
   "source": [
    "%load_ext memory_profiler\n",
    "from memory_profiler import profile\n",
    "gaussian_nb = GaussianNB()\n",
    "%memit gaussian_nb.fit(X_train,y_train)\n",
    "y_pred = gaussian_nb.predict(X_test)\n",
    "gaussian_predicted_prob_test = gaussian_nb.predict_proba(X_test)\n"
   ]
  },
  {
   "cell_type": "code",
   "execution_count": 16,
   "id": "13220648",
   "metadata": {},
   "outputs": [
    {
     "data": {
      "text/plain": [
       "array([[7.15998689e-01, 2.84001311e-01],\n",
       "       [1.00000000e+00, 9.46891061e-12],\n",
       "       [9.95657534e-01, 4.34246639e-03],\n",
       "       ...,\n",
       "       [9.99999994e-01, 5.84968149e-09],\n",
       "       [9.99998808e-01, 1.19175939e-06],\n",
       "       [9.94353559e-01, 5.64644058e-03]])"
      ]
     },
     "execution_count": 16,
     "metadata": {},
     "output_type": "execute_result"
    }
   ],
   "source": [
    "gaussian_predicted_prob_test\n"
   ]
  },
  {
   "cell_type": "markdown",
   "id": "cd0b1c0a",
   "metadata": {},
   "source": [
    "# Performance Measure"
   ]
  },
  {
   "cell_type": "code",
   "execution_count": 17,
   "id": "feefaec1",
   "metadata": {},
   "outputs": [
    {
     "name": "stdout",
     "output_type": "stream",
     "text": [
      "86.38018936635106 %\n"
     ]
    }
   ],
   "source": [
    "accuracy_score =accuracy_score(y_test, y_pred)\n",
    "print(accuracy_score*100,'%')"
   ]
  },
  {
   "cell_type": "code",
   "execution_count": 18,
   "id": "7f99939c",
   "metadata": {},
   "outputs": [
    {
     "name": "stdout",
     "output_type": "stream",
     "text": [
      "87.14923722724303 %\n"
     ]
    }
   ],
   "source": [
    "from sklearn.metrics import f1_score\n",
    "F1_score=f1_score(y_test, y_pred,average='weighted')\n",
    "print(F1_score*100,'%')"
   ]
  },
  {
   "cell_type": "code",
   "execution_count": 19,
   "id": "62106488",
   "metadata": {},
   "outputs": [
    {
     "data": {
      "text/plain": [
       "array([[9914, 1054],\n",
       "       [ 629,  760]], dtype=int64)"
      ]
     },
     "execution_count": 19,
     "metadata": {},
     "output_type": "execute_result"
    }
   ],
   "source": [
    "from sklearn.metrics import confusion_matrix\n",
    "con_matrix = confusion_matrix(y_test,y_pred, labels=['no','yes'])\n",
    "con_matrix"
   ]
  },
  {
   "cell_type": "code",
   "execution_count": 22,
   "id": "4843b094",
   "metadata": {},
   "outputs": [
    {
     "data": {
      "image/png": "[encoded data removed]",
      "text/plain": [
       "<Figure size 432x288 with 2 Axes>"
      ]
     },
     "metadata": {
      "needs_background": "light"
     },
     "output_type": "display_data"
    }
   ],
   "source": [
    "from sklearn.metrics import plot_confusion_matrix\n",
    "plot_confusion_matrix(gaussian_nb,X_test,y_test,display_labels=['no','yes'])\n",
    "plt.savefig(\"naive_bayes_confusion_matrix\")\n",
    "plt.close(fig)"
   ]
  },
  {
   "cell_type": "code",
   "execution_count": 21,
   "id": "53b07035",
   "metadata": {},
   "outputs": [
    {
     "data": {
      "text/plain": [
       "2.237966775894165"
      ]
     },
     "execution_count": 21,
     "metadata": {},
     "output_type": "execute_result"
    }
   ],
   "source": [
    "end=time.time()\n",
    "end-start"
   ]
  },
  {
   "cell_type": "code",
   "execution_count": null,
   "id": "3a6510d7",
   "metadata": {},
   "outputs": [],
   "source": []
  }
 ],
 "metadata": {
  "kernelspec": {
   "display_name": "Python 3 (ipykernel)",
   "language": "python",
   "name": "python3"
  },
  "language_info": {
   "codemirror_mode": {
    "name": "ipython",
    "version": 3
   },
   "file_extension": ".py",
   "mimetype": "text/x-python",
   "name": "python",
   "nbconvert_exporter": "python",
   "pygments_lexer": "ipython3",
   "version": "3.9.7"
  }
 },
 "nbformat": 4,
 "nbformat_minor": 5
}
